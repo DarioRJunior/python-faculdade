{
 "cells": [
  {
   "cell_type": "code",
   "execution_count": 20,
   "metadata": {},
   "outputs": [
    {
     "name": "stdout",
     "output_type": "stream",
     "text": [
      "15\n"
     ]
    }
   ],
   "source": [
    "#   Exercício Python 001 - Soma de números inteiros\n",
    "a = 5\n",
    "b = 10\n",
    "print(a+b)"
   ]
  },
  {
   "cell_type": "code",
   "execution_count": 36,
   "metadata": {},
   "outputs": [
    {
     "ename": "KeyboardInterrupt",
     "evalue": "Interrupted by user",
     "output_type": "error",
     "traceback": [
      "\u001b[1;31m---------------------------------------------------------------------------\u001b[0m",
      "\u001b[1;31mKeyboardInterrupt\u001b[0m                         Traceback (most recent call last)",
      "\u001b[1;32mc:\\Users\\1032010015\\Desktop\\Dario Junior\\Python\\aula-01\\exercicios.ipynb Cell 2'\u001b[0m in \u001b[0;36m<cell line: 3>\u001b[1;34m()\u001b[0m\n\u001b[0;32m      <a href='vscode-notebook-cell:/c%3A/Users/1032010015/Desktop/Dario%20Junior/Python/aula-01/exercicios.ipynb#ch0000004?line=0'>1</a>\u001b[0m \u001b[39m# Exercício Python 002 - Conversor de Metros para milímetros\u001b[39;00m\n\u001b[1;32m----> <a href='vscode-notebook-cell:/c%3A/Users/1032010015/Desktop/Dario%20Junior/Python/aula-01/exercicios.ipynb#ch0000004?line=2'>3</a>\u001b[0m metros \u001b[39m=\u001b[39m \u001b[39mint\u001b[39m (\u001b[39minput\u001b[39;49m(\u001b[39m\"\u001b[39;49m\u001b[39m Quantos metros?: \u001b[39;49m\u001b[39m\"\u001b[39;49m))\n\u001b[0;32m      <a href='vscode-notebook-cell:/c%3A/Users/1032010015/Desktop/Dario%20Junior/Python/aula-01/exercicios.ipynb#ch0000004?line=3'>4</a>\u001b[0m milímetros \u001b[39m=\u001b[39m metros \u001b[39m*\u001b[39m \u001b[39m1000\u001b[39m\n\u001b[0;32m      <a href='vscode-notebook-cell:/c%3A/Users/1032010015/Desktop/Dario%20Junior/Python/aula-01/exercicios.ipynb#ch0000004?line=4'>5</a>\u001b[0m \u001b[39mprint\u001b[39m(\u001b[39mf\u001b[39m\u001b[39m\"\u001b[39m\u001b[39m{\u001b[39;00mmetros\u001b[39m}\u001b[39;00m\u001b[39m metros equivalem a \u001b[39m\u001b[39m{\u001b[39;00mmilímetros\u001b[39m}\u001b[39;00m\u001b[39m milímetros.\u001b[39m\u001b[39m\"\u001b[39m)\n",
      "File \u001b[1;32m~\\AppData\\Local\\Programs\\Python\\Python310\\lib\\site-packages\\ipykernel\\kernelbase.py:1076\u001b[0m, in \u001b[0;36mKernel.raw_input\u001b[1;34m(self, prompt)\u001b[0m\n\u001b[0;32m   <a href='file:///c%3A/Users/1032010015/AppData/Local/Programs/Python/Python310/lib/site-packages/ipykernel/kernelbase.py?line=1071'>1072</a>\u001b[0m \u001b[39mif\u001b[39;00m \u001b[39mnot\u001b[39;00m \u001b[39mself\u001b[39m\u001b[39m.\u001b[39m_allow_stdin:\n\u001b[0;32m   <a href='file:///c%3A/Users/1032010015/AppData/Local/Programs/Python/Python310/lib/site-packages/ipykernel/kernelbase.py?line=1072'>1073</a>\u001b[0m     \u001b[39mraise\u001b[39;00m StdinNotImplementedError(\n\u001b[0;32m   <a href='file:///c%3A/Users/1032010015/AppData/Local/Programs/Python/Python310/lib/site-packages/ipykernel/kernelbase.py?line=1073'>1074</a>\u001b[0m         \u001b[39m\"\u001b[39m\u001b[39mraw_input was called, but this frontend does not support input requests.\u001b[39m\u001b[39m\"\u001b[39m\n\u001b[0;32m   <a href='file:///c%3A/Users/1032010015/AppData/Local/Programs/Python/Python310/lib/site-packages/ipykernel/kernelbase.py?line=1074'>1075</a>\u001b[0m     )\n\u001b[1;32m-> <a href='file:///c%3A/Users/1032010015/AppData/Local/Programs/Python/Python310/lib/site-packages/ipykernel/kernelbase.py?line=1075'>1076</a>\u001b[0m \u001b[39mreturn\u001b[39;00m \u001b[39mself\u001b[39;49m\u001b[39m.\u001b[39;49m_input_request(\n\u001b[0;32m   <a href='file:///c%3A/Users/1032010015/AppData/Local/Programs/Python/Python310/lib/site-packages/ipykernel/kernelbase.py?line=1076'>1077</a>\u001b[0m     \u001b[39mstr\u001b[39;49m(prompt),\n\u001b[0;32m   <a href='file:///c%3A/Users/1032010015/AppData/Local/Programs/Python/Python310/lib/site-packages/ipykernel/kernelbase.py?line=1077'>1078</a>\u001b[0m     \u001b[39mself\u001b[39;49m\u001b[39m.\u001b[39;49m_parent_ident[\u001b[39m\"\u001b[39;49m\u001b[39mshell\u001b[39;49m\u001b[39m\"\u001b[39;49m],\n\u001b[0;32m   <a href='file:///c%3A/Users/1032010015/AppData/Local/Programs/Python/Python310/lib/site-packages/ipykernel/kernelbase.py?line=1078'>1079</a>\u001b[0m     \u001b[39mself\u001b[39;49m\u001b[39m.\u001b[39;49mget_parent(\u001b[39m\"\u001b[39;49m\u001b[39mshell\u001b[39;49m\u001b[39m\"\u001b[39;49m),\n\u001b[0;32m   <a href='file:///c%3A/Users/1032010015/AppData/Local/Programs/Python/Python310/lib/site-packages/ipykernel/kernelbase.py?line=1079'>1080</a>\u001b[0m     password\u001b[39m=\u001b[39;49m\u001b[39mFalse\u001b[39;49;00m,\n\u001b[0;32m   <a href='file:///c%3A/Users/1032010015/AppData/Local/Programs/Python/Python310/lib/site-packages/ipykernel/kernelbase.py?line=1080'>1081</a>\u001b[0m )\n",
      "File \u001b[1;32m~\\AppData\\Local\\Programs\\Python\\Python310\\lib\\site-packages\\ipykernel\\kernelbase.py:1121\u001b[0m, in \u001b[0;36mKernel._input_request\u001b[1;34m(self, prompt, ident, parent, password)\u001b[0m\n\u001b[0;32m   <a href='file:///c%3A/Users/1032010015/AppData/Local/Programs/Python/Python310/lib/site-packages/ipykernel/kernelbase.py?line=1117'>1118</a>\u001b[0m             \u001b[39mbreak\u001b[39;00m\n\u001b[0;32m   <a href='file:///c%3A/Users/1032010015/AppData/Local/Programs/Python/Python310/lib/site-packages/ipykernel/kernelbase.py?line=1118'>1119</a>\u001b[0m \u001b[39mexcept\u001b[39;00m \u001b[39mKeyboardInterrupt\u001b[39;00m:\n\u001b[0;32m   <a href='file:///c%3A/Users/1032010015/AppData/Local/Programs/Python/Python310/lib/site-packages/ipykernel/kernelbase.py?line=1119'>1120</a>\u001b[0m     \u001b[39m# re-raise KeyboardInterrupt, to truncate traceback\u001b[39;00m\n\u001b[1;32m-> <a href='file:///c%3A/Users/1032010015/AppData/Local/Programs/Python/Python310/lib/site-packages/ipykernel/kernelbase.py?line=1120'>1121</a>\u001b[0m     \u001b[39mraise\u001b[39;00m \u001b[39mKeyboardInterrupt\u001b[39;00m(\u001b[39m\"\u001b[39m\u001b[39mInterrupted by user\u001b[39m\u001b[39m\"\u001b[39m) \u001b[39mfrom\u001b[39;00m \u001b[39mNone\u001b[39m\n\u001b[0;32m   <a href='file:///c%3A/Users/1032010015/AppData/Local/Programs/Python/Python310/lib/site-packages/ipykernel/kernelbase.py?line=1121'>1122</a>\u001b[0m \u001b[39mexcept\u001b[39;00m \u001b[39mException\u001b[39;00m:\n\u001b[0;32m   <a href='file:///c%3A/Users/1032010015/AppData/Local/Programs/Python/Python310/lib/site-packages/ipykernel/kernelbase.py?line=1122'>1123</a>\u001b[0m     \u001b[39mself\u001b[39m\u001b[39m.\u001b[39mlog\u001b[39m.\u001b[39mwarning(\u001b[39m\"\u001b[39m\u001b[39mInvalid Message:\u001b[39m\u001b[39m\"\u001b[39m, exc_info\u001b[39m=\u001b[39m\u001b[39mTrue\u001b[39;00m)\n",
      "\u001b[1;31mKeyboardInterrupt\u001b[0m: Interrupted by user"
     ]
    }
   ],
   "source": [
    "# Exercício Python 002 - Conversor de Metros para milímetros\n",
    "\n",
    "metros = int (input(\" Quantos metros?: \"))\n",
    "milímetros = metros * 1000\n",
    "print(f\"{metros} metros equivalem a {milímetros} milímetros.\")"
   ]
  }
 ],
 "metadata": {
  "interpreter": {
   "hash": "c28a6ba49efffdc5add3f326bb936f5188188d63242891b696494322c3478a31"
  },
  "kernelspec": {
   "display_name": "Python 3.10.4 64-bit",
   "language": "python",
   "name": "python3"
  },
  "language_info": {
   "codemirror_mode": {
    "name": "ipython",
    "version": 3
   },
   "file_extension": ".py",
   "mimetype": "text/x-python",
   "name": "python",
   "nbconvert_exporter": "python",
   "pygments_lexer": "ipython3",
   "version": "3.10.4"
  },
  "orig_nbformat": 4
 },
 "nbformat": 4,
 "nbformat_minor": 2
}

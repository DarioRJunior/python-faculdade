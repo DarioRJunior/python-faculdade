{
 "cells": [
  {
   "cell_type": "code",
   "execution_count": 14,
   "metadata": {
    "scrolled": false
   },
   "outputs": [
    {
     "name": "stdout",
     "output_type": "stream",
     "text": [
      "Vendas:\n",
      "\n",
      "Nome do produto (fim para sair):Tomate\n",
      "Quantidade:12\n",
      "Tomate      :  12 x   2.30 =  27.60\n",
      "Nome do produto (fim para sair):Feijão\n",
      "Quantidade:2\n",
      "Feijão      :   2 x   1.50 =   3.00\n",
      "Nome do produto (fim para sair):Batata\n",
      "Quantidade:15\n",
      "Batata      :  15 x   1.20 =  18.00\n",
      "Nome do produto (fim para sair):fim\n",
      " Custo total:                 48.60\n",
      "\n",
      "Estoque:\n",
      "\n",
      "Descrição:  Tomate\n",
      "Quantidade:  988\n",
      "Preço:   2.30\n",
      "\n",
      "Descrição:  Alface\n",
      "Quantidade:  500\n",
      "Preço:   0.45\n",
      "\n",
      "Descrição:  Batata\n",
      "Quantidade:  1986\n",
      "Preço:   1.20\n",
      "\n",
      "Descrição:  Feijão\n",
      "Quantidade:  98\n",
      "Preço:   1.50\n",
      "\n"
     ]
    }
   ],
   "source": [
    "estoque = {\"Tomate\": [1000, 2.30],\n",
    "           \"Alface\": [500, 0.45],\n",
    "           \"Batata\": [2001, 1.20],\n",
    "           \"Feijão\": [100, 1.50]}\n",
    "total = 0\n",
    "print(\"Vendas:\\n\")\n",
    "while True:\n",
    "    produto = input(\"Nome do produto (fim para sair):\")\n",
    "    if produto == \"fim\":\n",
    "        break\n",
    "    if produto in estoque:\n",
    "        quantidade = int(input(\"Quantidade:\"))\n",
    "        if quantidade <= estoque[produto][0]:\n",
    "            preço = estoque[produto][1]\n",
    "            custo = preço * quantidade\n",
    "            print(f\"{produto:12s}: {quantidade:3d} x {preço:6.2f} = {custo:6.2f}\")\n",
    "            estoque[produto][0] -= quantidade\n",
    "            total += custo\n",
    "        else:\n",
    "            print(\"Quantidade solicitada não disponível\")\n",
    "    else:\n",
    "        print(\"Nome de produto inválido\")\n",
    "print(f\" Custo total: {total:21.2f}\\n\")\n",
    "print(\"Estoque:\\n\")\n",
    "for chave, dados in estoque.items():\n",
    "    print(\"Descrição: \", chave)\n",
    "    print(\"Quantidade: \", dados[0])\n",
    "    print(f\"Preço: {dados[1]:6.2f}\\n\")"
   ]
  },
  {
   "cell_type": "code",
   "execution_count": 15,
   "metadata": {
    "scrolled": true
   },
   "outputs": [
    {
     "name": "stdout",
     "output_type": "stream",
     "text": [
      "Lista 01 = (1, 2, 3, 4, 5, 6, 7, 9)\n",
      "\n",
      "Lista 02 = (1, 4, 5, 8, 9)\n",
      "\n",
      "Números comuns:  [1, 4, 5, 9]\n",
      "Valores que só existem na primeira lista:  [1, 2, 3, 4, 5, 6, 7, 9]\n",
      "Valores que só existem na segunda lista:  [1, 4, 5, 8, 9]\n",
      "Valores não repetidos:  [2, 3, 6, 7, 8]\n",
      "Primeira Lista sem os elementos repetidos da segunda lista:  [2, 3, 6, 7]\n"
     ]
    }
   ],
   "source": [
    "t1 = (1,2,3,4,5,6,7,9)\n",
    "t2 = (1,4,5,8,9)\n",
    "\n",
    "print(\"Lista 01 =\", t1)\n",
    "print(\"\\nLista 02 =\", t2)\n",
    "\n",
    "comuns = list(set(t1) & set(t2))\n",
    "print(\"\\nNúmeros comuns: \",comuns)\n",
    "\n",
    "tupla1 = list(set(t1))\n",
    "print(\"Valores que só existem na primeira lista: \",tupla1)\n",
    "\n",
    "tupla2 = list(set(t2))\n",
    "print(\"Valores que só existem na segunda lista: \",tupla2)\n",
    "\n",
    "diferenca_1 = set(t1).difference(set(t2))\n",
    "diferenca_2 = set(t2).difference(set(t1))\n",
    "listar_diferenca = list(diferenca_1.union(diferenca_2))\n",
    "print(\"Valores não repetidos: \",listar_diferenca)\n",
    "\n",
    "listar_diferenca = []\n",
    "for element in t1:\n",
    "    if element not in t2:\n",
    "        listar_diferenca.append(element)\n",
    "print(\"Primeira Lista sem os elementos repetidos da segunda lista: \",listar_diferenca)"
   ]
  },
  {
   "cell_type": "code",
   "execution_count": null,
   "metadata": {},
   "outputs": [],
   "source": []
  }
 ],
 "metadata": {
  "kernelspec": {
   "display_name": "Python 3",
   "language": "python",
   "name": "python3"
  },
  "language_info": {
   "codemirror_mode": {
    "name": "ipython",
    "version": 3
   },
   "file_extension": ".py",
   "mimetype": "text/x-python",
   "name": "python",
   "nbconvert_exporter": "python",
   "pygments_lexer": "ipython3",
   "version": "3.7.1"
  }
 },
 "nbformat": 4,
 "nbformat_minor": 2
}

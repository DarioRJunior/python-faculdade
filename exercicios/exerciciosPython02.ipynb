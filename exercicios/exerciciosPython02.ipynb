{
 "cells": [
  {
   "cell_type": "code",
   "execution_count": null,
   "metadata": {},
   "outputs": [],
   "source": [
    "numero = int(input('(Mostra Impar) Digite um número: '))\n",
    "x = 1\n",
    "while x <= numero:\n",
    "\twhile x % 2 != 0:\n",
    "\t\tprint(x)\n",
    "\t\tx = x + 1\t\n",
    "\tx = x + 1"
   ]
  },
  {
   "cell_type": "code",
   "execution_count": null,
   "metadata": {
    "scrolled": true
   },
   "outputs": [],
   "source": [
    "fim = 70\n",
    "x = 7\n",
    "while x <= fim:\n",
    "    print(x)\n",
    "    x = x + 7"
   ]
  },
  {
   "cell_type": "code",
   "execution_count": 2,
   "metadata": {
    "scrolled": false
   },
   "outputs": [
    {
     "name": "stdout",
     "output_type": "stream",
     "text": [
      "Digite um número inteiro: 10\n",
      "Digite um número inteiro: 20\n",
      "Digite um número inteiro: 30\n",
      "Digite um número inteiro: 0\n",
      "Quantidade de números digitados: 3\n",
      "Soma:  60\n",
      "Média:      20.00\n"
     ]
    }
   ],
   "source": [
    "soma = 0\n",
    "quantidade = 0\n",
    "while True:\n",
    "    n = int(input(\"Digite um número inteiro: \"))\n",
    "    if n == 0:\n",
    "        break\n",
    "    soma = soma + n\n",
    "    quantidade = quantidade + 1\n",
    "print(\"Quantidade de números digitados:\", quantidade)\n",
    "print(\"Soma: \", soma)\n",
    "print(f\"Média: {soma/quantidade:10.2f}\")"
   ]
  },
  {
   "cell_type": "code",
   "execution_count": 1,
   "metadata": {
    "scrolled": true
   },
   "outputs": [
    {
     "name": "stdout",
     "output_type": "stream",
     "text": [
      "Digite um valor para a primeira lista (0 para terminar): 1\n",
      "Digite um valor para a primeira lista (0 para terminar): 2\n",
      "Digite um valor para a primeira lista (0 para terminar): 0\n",
      "Digite um valor para a segunda lista (0 para terminar): 2\n",
      "Digite um valor para a segunda lista (0 para terminar): 0\n",
      "0: 1\n",
      "1: 2\n",
      "2: 2\n"
     ]
    }
   ],
   "source": [
    "primeira = []\n",
    "segunda = []\n",
    "while True:\n",
    "    e = int(input(\"Digite um valor para a primeira lista (0 para terminar): \"))\n",
    "    if e == 0:\n",
    "        break\n",
    "    primeira.append(e)\n",
    "while True:\n",
    "    e = int(input(\"Digite um valor para a segunda lista (0 para terminar): \"))\n",
    "    if e == 0:\n",
    "        break\n",
    "    segunda.append(e)\n",
    "terceira = primeira[:]  # Copia os elementos da primeira lista\n",
    "terceira.extend(segunda)\n",
    "x = 0\n",
    "while x < len(terceira):\n",
    "    print(f\"{x}: {terceira[x]}\")\n",
    "    x = x + 1"
   ]
  },
  {
   "cell_type": "code",
   "execution_count": 3,
   "metadata": {},
   "outputs": [
    {
     "name": "stdout",
     "output_type": "stream",
     "text": [
      "Temperatura máxima: 30 °C\n",
      "Temperatura mínima: 10 °C\n",
      "Temperatura média: 21.25 °C\n"
     ]
    }
   ],
   "source": [
    "T = [10, 14, 18, 30, 22, 26, 27, 23]\n",
    "mínima = T[0]  # A escolha do primeiro elemento é arbitrária, poderia ser qualquer elemento válido\n",
    "máxima = T[0]\n",
    "soma = 0\n",
    "for e in T:\n",
    "    if e < mínima:\n",
    "        mínima = e\n",
    "    if e > máxima:\n",
    "        máxima = e\n",
    "    soma = soma + e\n",
    "print(f\"Temperatura máxima: {máxima} °C\")\n",
    "print(f\"Temperatura mínima: {mínima} °C\")\n",
    "print(f\"Temperatura média: {soma / len(T)} °C\")"
   ]
  },
  {
   "cell_type": "code",
   "execution_count": null,
   "metadata": {},
   "outputs": [],
   "source": []
  }
 ],
 "metadata": {
  "kernelspec": {
   "display_name": "Python 3",
   "language": "python",
   "name": "python3"
  },
  "language_info": {
   "codemirror_mode": {
    "name": "ipython",
    "version": 3
   },
   "file_extension": ".py",
   "mimetype": "text/x-python",
   "name": "python",
   "nbconvert_exporter": "python",
   "pygments_lexer": "ipython3",
   "version": "3.7.1"
  }
 },
 "nbformat": 4,
 "nbformat_minor": 2
}

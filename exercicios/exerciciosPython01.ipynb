{
 "cells": [
  {
   "cell_type": "code",
   "execution_count": 1,
   "metadata": {},
   "outputs": [
    {
     "name": "stdout",
     "output_type": "stream",
     "text": [
      "15\n"
     ]
    }
   ],
   "source": [
    "a = 5\n",
    "b = 10\n",
    "print(a+b)"
   ]
  },
  {
   "cell_type": "code",
   "execution_count": 2,
   "metadata": {},
   "outputs": [
    {
     "name": "stdout",
     "output_type": "stream",
     "text": [
      " Quantos metros?: 50\n",
      "50 metros equivalem a 50000 milímetros.\n"
     ]
    }
   ],
   "source": [
    "metros = int (input(\" Quantos metros?: \"));\n",
    "milímetros = metros * 1000;\n",
    "print(f\"{metros} metros equivalem a {milímetros} milímetros.\"); "
   ]
  },
  {
   "cell_type": "code",
   "execution_count": 3,
   "metadata": {},
   "outputs": [
    {
     "name": "stdout",
     "output_type": "stream",
     "text": [
      "Dias:20\n",
      "Horas:1\n",
      "Minutos:20\n",
      "Segundos:3\n",
      "Convertido em segundos é igual a 1732803 segundos.\n"
     ]
    }
   ],
   "source": [
    "\n",
    "dias = int(input(\"Dias:\"))\n",
    "horas = int(input(\"Horas:\"))\n",
    "minutos = int(input(\"Minutos:\"))\n",
    "segundos = int(input(\"Segundos:\"))\n",
    "total_em_segundos = dias * 24 * 3600 + horas * 3600 + minutos * 60 + segundos\n",
    "print(\"Convertido em segundos é igual a %d segundos.\" % total_em_segundos)"
   ]
  },
  {
   "cell_type": "code",
   "execution_count": 4,
   "metadata": {},
   "outputs": [
    {
     "name": "stdout",
     "output_type": "stream",
     "text": [
      "Digite o seu salário: 2000\n",
      "Digite a porcentagem de aumento: 20\n",
      "O aumento será de R$ 400.0\n",
      "Seu salário atual é de R$ 2400.0\n"
     ]
    }
   ],
   "source": [
    "salario = float(input(\"Digite o seu salário: \"))\n",
    "aumentoSalario = int(input(\"Digite a porcentagem de aumento: \"))\n",
    "aumentoCalculo = aumentoSalario * salario\n",
    "aumentoTotal = aumentoCalculo / 100\n",
    "print(f\"O aumento será de R$ {aumentoTotal}\")\n",
    "salarioAtual = aumentoTotal + salario\n",
    "print(f\"Seu salário atual é de R$ {salarioAtual}\")"
   ]
  },
  {
   "cell_type": "code",
   "execution_count": 5,
   "metadata": {},
   "outputs": [
    {
     "name": "stdout",
     "output_type": "stream",
     "text": [
      "Digite o preço da mercadoria:20\n",
      "Digite o percentual de desconto:50\n",
      "Um desconto de 50.00 % em uma mercadoria de R$   20.00\n",
      "vale R$   10.00.\n",
      "O valor a pagar é de R$   10.00\n"
     ]
    }
   ],
   "source": [
    "preço = float(input(\"Digite o preço da mercadoria:\"))\n",
    "desconto = float(input(\"Digite o percentual de desconto:\"))\n",
    "valor_do_desconto = preço * desconto / 100\n",
    "a_pagar = preço - valor_do_desconto\n",
    "print(\"Um desconto de %5.2f %% em uma mercadoria de R$ %7.2f\" % (desconto, preço))\n",
    "print(\"vale R$ %7.2f.\" % valor_do_desconto)\n",
    "print(\"O valor a pagar é de R$ %7.2f\" % a_pagar)"
   ]
  },
  {
   "cell_type": "code",
   "execution_count": 7,
   "metadata": {},
   "outputs": [
    {
     "name": "stdout",
     "output_type": "stream",
     "text": [
      "Digite a distância em km:400\n",
      "Digite a velocidade média em km/h:110\n",
      "O tempo estimado é de  3.64 horas\n",
      "03:38:10\n"
     ]
    }
   ],
   "source": [
    "distância = float(input(\"Digite a distância em km:\"))\n",
    "velocidade_média = float(input(\"Digite a velocidade média em km/h:\"))\n",
    "tempo = distância / velocidade_média\n",
    "print(\"O tempo estimado é de %5.2f horas\" % tempo)\n",
    "# Opcional: imprimir o tempo em horas, minutos e segundos\n",
    "tempo_s = int(tempo * 3600)  # convertemos de horas para segundos\n",
    "horas = int(tempo_s / 3600)  # parte inteira\n",
    "tempo_s = int(tempo_s % 3600)  # o resto\n",
    "minutos = int(tempo_s / 60)\n",
    "segundos = int(tempo_s % 60)\n",
    "print(\"%02d:%02d:%02d\" % (horas, minutos, segundos))"
   ]
  },
  {
   "cell_type": "code",
   "execution_count": 8,
   "metadata": {},
   "outputs": [
    {
     "name": "stdout",
     "output_type": "stream",
     "text": [
      "Digite a temperatura em °C:20\n",
      "20.00°C é igual a 68.00°F\n"
     ]
    }
   ],
   "source": [
    "C = float(input(\"Digite a temperatura em °C:\"))\n",
    "F = (9 * C / 5) + 32\n",
    "print(\"%5.2f°C é igual a %5.2f°F\" % (C, F))"
   ]
  },
  {
   "cell_type": "code",
   "execution_count": 10,
   "metadata": {},
   "outputs": [
    {
     "name": "stdout",
     "output_type": "stream",
     "text": [
      "Digite a quantidade de quilometros percorridos:10\n",
      "Digite quantos dias você ficou com o carro:3\n",
      "Total a pagar: R$  181.50\n"
     ]
    }
   ],
   "source": [
    "km = int(input(\"Digite a quantidade de quilometros percorridos:\"))\n",
    "dias = int(input(\"Digite quantos dias você ficou com o carro:\"))\n",
    "preço_por_dia = 60\n",
    "preço_por_km = 0.15\n",
    "preço_a_pagar = km * preço_por_km + dias * preço_por_dia\n",
    "print(\"Total a pagar: R$ %7.2f\" % preço_a_pagar)"
   ]
  },
  {
   "cell_type": "code",
   "execution_count": 9,
   "metadata": {},
   "outputs": [
    {
     "name": "stdout",
     "output_type": "stream",
     "text": [
      "Quantidade de cigarros por dia:2\n",
      "Quantidade de anos fumando:5\n",
      "Redução do tempo de vida    25.35 dias.\n"
     ]
    }
   ],
   "source": [
    "cigarros_por_dia = int(input(\"Quantidade de cigarros por dia:\"))\n",
    "anos_fumando = float(input(\"Quantidade de anos fumando:\"))\n",
    "redução_em_minutos = anos_fumando * 365 * cigarros_por_dia * 10\n",
    "# Um dia tem 24 x 60 minutos\n",
    "redução_em_dias = redução_em_minutos / (24 * 60)\n",
    "print(\"Redução do tempo de vida %8.2f dias.\" % redução_em_dias)"
   ]
  }
 ],
 "metadata": {
  "kernelspec": {
   "display_name": "Python 3",
   "language": "python",
   "name": "python3"
  },
  "language_info": {
   "codemirror_mode": {
    "name": "ipython",
    "version": 3
   },
   "file_extension": ".py",
   "mimetype": "text/x-python",
   "name": "python",
   "nbconvert_exporter": "python",
   "pygments_lexer": "ipython3",
   "version": "3.7.0"
  }
 },
 "nbformat": 4,
 "nbformat_minor": 2
}
